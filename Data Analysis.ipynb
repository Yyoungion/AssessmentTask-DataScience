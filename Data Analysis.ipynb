{
 "cells": [
  {
   "attachments": {},
   "cell_type": "markdown",
   "metadata": {},
   "source": [
    "# Identifying and Defining"
   ]
  },
  {
   "attachments": {},
   "cell_type": "markdown",
   "metadata": {},
   "source": [
    "### Choose Your Data Scenario:\n",
    "\n",
    "**Data:** A collection of weather data across Australia from 2007 to 2017 (10 Years).\\\n",
    "**Goal:** How does the weather change across Australia as seasons change.\\\n",
    "**Source:** https://www.kaggle.com/datasets/arunavakrchakraborty/australia-weather-data\\\n",
    "**Access:** The data is publically Accessible on kaggle.com.\\\n",
    "**Access Method:** It will be accessible as a csv.\n",
    "\n",
    "### Functional Requirements\n",
    "\n",
    "**Data Loading:**  The program will load .csv files. They program will need to scan through the data inputed by the user and remove or change any errors. The user will input their data for it to be analyzed. The program will output the data with missing values and errors removed./\n",
    "**Data Cleaning:** The program will clean the data, removing any unnecessary or incorrect values. The user will input their data. The program will output the data with duplications, missing values and other incorrect values removed./\n",
    "**Data Analysis:** \n"
   ]
  }
 ],
 "metadata": {
  "language_info": {
   "name": "python"
  },
  "orig_nbformat": 4
 },
 "nbformat": 4,
 "nbformat_minor": 2
}
